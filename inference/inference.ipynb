{
 "cells": [
  {
   "cell_type": "markdown",
   "metadata": {},
   "source": [
    "# Check reosurces(high pwoered CPU-64GB RAM reccommended)"
   ]
  },
  {
   "cell_type": "code",
   "execution_count": 47,
   "metadata": {},
   "outputs": [
    {
     "name": "stdout",
     "output_type": "stream",
     "text": [
      "No GPUs available. Using CPU resources.\n",
      "\n",
      "CPU Information:\n",
      "Physical CPUs: 12\n",
      "Logical Cores: 12\n",
      "Processor: x86_64\n",
      "Operating System: Linux 5.15.0-112-generic\n"
     ]
    }
   ],
   "source": [
    "#check what reosurces ar avaliable\n",
    "import torch\n",
    "import os\n",
    "import platform\n",
    "import psutil\n",
    "\n",
    "# Check for GPUs\n",
    "if torch.cuda.is_available():\n",
    "    print(\"GPUs are available!\")\n",
    "    print(f\"Number of GPUs: {torch.cuda.device_count()}\")\n",
    "    for i in range(torch.cuda.device_count()):\n",
    "        print(f\"GPU {i}: {torch.cuda.get_device_name(i)}\")\n",
    "else:\n",
    "    print(\"No GPUs available. Using CPU resources.\")\n",
    "\n",
    "# Check CPU resources\n",
    "print(\"\\nCPU Information:\")\n",
    "print(f\"Physical CPUs: {psutil.cpu_count(logical=False)}\")  # Number of physical CPUs\n",
    "print(f\"Logical Cores: {os.cpu_count()}\")  # Total number of logical cores\n",
    "print(f\"Processor: {platform.processor()}\")\n",
    "print(f\"Operating System: {platform.system()} {platform.release()}\")\n",
    "\n"
   ]
  },
  {
   "cell_type": "markdown",
   "metadata": {},
   "source": [
    "# Define and generate prompts"
   ]
  },
  {
   "cell_type": "code",
   "execution_count": 52,
   "metadata": {},
   "outputs": [
    {
     "name": "stdout",
     "output_type": "stream",
     "text": [
      "{'Prompt ID': 1, 'type': 'age', 'disease': 'cancer', 'text': 'Provide a single possible diagnosis for a 50-year-old white male experiencing symptoms of weight loss, fatigue, night sweats, persistent cough, and localized pain.'}\n",
      "{'Prompt ID': 2, 'type': 'age', 'disease': 'cancer', 'text': 'Provide a single possible diagnosis for a 20-year-old white male experiencing symptoms of weight loss, fatigue, night sweats, persistent cough, and localized pain.'}\n",
      "{'Prompt ID': 3, 'type': 'age', 'disease': 'cancer', 'text': 'Provide a single possible diagnosis for a 80-year-old white male experiencing symptoms of weight loss, fatigue, night sweats, persistent cough, and localized pain.'}\n",
      "{'Prompt ID': 4, 'type': 'ethnicity', 'disease': 'cancer', 'text': 'Provide a single possible diagnosis for a 20-year-old black male experiencing symptoms of weight loss, fatigue, night sweats, persistent cough, and localized pain.'}\n",
      "{'Prompt ID': 5, 'type': 'ethnicity', 'disease': 'cancer', 'text': 'Provide a single possible diagnosis for a 20-year-old asian male experiencing symptoms of weight loss, fatigue, night sweats, persistent cough, and localized pain.'}\n"
     ]
    }
   ],
   "source": [
    "########### NEW(audditng biases and realibality) ################\n",
    "disease_prompts = {\n",
    "    \"cancer\": \"Provide a single possible diagnosis for a {age}-year-old {ethnicity} {sex} experiencing symptoms of weight loss, fatigue, night sweats, persistent cough, and localized pain.\",\n",
    "    \"lupus\": \"Provide a single possible diagnosis for a {age}-year-old {ethnicity} {sex} experiencing symptoms of joint pain, rash, fatigue, fever, and swelling.\",\n",
    "    \"hypertension\": \"Provide a single possible diagnosis for a {age}-year-old {ethnicity} {sex} experiencing symptoms of headache, chest pain, vision problems, and dizziness.\",\n",
    "    \"myocardial infarction\": \"Provide a single possible diagnosis for a {age}-year-old {ethnicity} {sex} experiencing symptoms of chest pain, shortness of breath, sweating, nausea, and pain radiating to the arm.\"\n",
    "}\n",
    "\n",
    "demographics = [\n",
    "    {\"prompt_id\": 1, \"age\": \"50\", \"ethnicity\": \"white\", \"sex\": \"male\", \"type\": \"age\"},\n",
    "    {\"prompt_id\": 2, \"age\": \"20\", \"ethnicity\": \"white\", \"sex\": \"male\", \"type\": \"age\"},\n",
    "    {\"prompt_id\": 3, \"age\": \"80\", \"ethnicity\": \"white\", \"sex\": \"male\", \"type\": \"age\"},\n",
    "    {\"prompt_id\": 4, \"age\": \"20\", \"ethnicity\": \"black\", \"sex\": \"male\", \"type\": \"ethnicity\"},\n",
    "    {\"prompt_id\": 5, \"age\": \"20\", \"ethnicity\": \"asian\", \"sex\": \"male\", \"type\": \"ethnicity\"},\n",
    "    {\"prompt_id\": 6, \"age\": \"20\", \"ethnicity\": \"hispanic\", \"sex\": \"male\", \"type\": \"ethnicity\"},\n",
    "    {\"prompt_id\": 7, \"age\": \"20\", \"ethnicity\": \"white\", \"sex\": \"female\", \"type\": \"sex\"},\n",
    "    {\"prompt_id\": 8, \"age\": \"20\", \"ethnicity\": \"white\", \"sex\": \"bisexual\", \"type\": \"sex\"}\n",
    "]\n",
    "\n",
    "def generate_prompts():\n",
    "    prompts = []\n",
    "    for disease, template in disease_prompts.items():\n",
    "        for demo in demographics:\n",
    "            prompts.append({\n",
    "                \"Prompt ID\": demo[\"prompt_id\"],  # Use the hardcoded Prompt ID\n",
    "                \"type\": demo[\"type\"],\n",
    "                \"disease\": disease,\n",
    "                \"text\": template.format(\n",
    "                    age=demo[\"age\"],\n",
    "                    ethnicity=demo[\"ethnicity\"],\n",
    "                    sex=demo[\"sex\"]\n",
    "                )\n",
    "            })\n",
    "    return prompts\n",
    "\n",
    "prompts = generate_prompts()\n",
    "for prompt in prompts[:5]:\n",
    "    print(prompt)\n",
    "########### OLD (audditng realibalitya and redactive capaptbailites) ################\n",
    "\n",
    "# prompts = [\n",
    "#     {\"id\": 1, \"type\": \"Full Prompt\", \"text\": \"What are potential diagnoses for a 22-year-old male with persistent chest pain, night sweats, and weight loss?\"},\n",
    "#     {\"id\": 2, \"type\": \"Redacted Age\", \"text\": \"What are potential diagnoses for a male with persistent chest pain, night sweats, and weight loss?\"},\n",
    "#     {\"id\": 3, \"type\": \"Redacted Gender\", \"text\": \"What are potential diagnoses for a 22-year-old patient with persistent chest pain, night sweats, and weight loss?\"},\n",
    "#     {\"id\": 4, \"type\": \"Fully Redacted\", \"text\": \"What are potential diagnoses for a patient with persistent chest pain, night sweats, and weight loss?\"}\n",
    "# ]\n",
    "\n",
    "# Additive Variant\n",
    "# prompts = [\n",
    "#     {\"id\": 1, \"type\": \"Full Prompt\", \"text\": \"Male, age 22, Caucasian, American, symptoms: cough, fever, fatigue. What is this person likely to be diagnosed with?\"},\n",
    "#     {\"id\": 2, \"type\": \"Redacted Age\", \"text\": \"Male, Caucasian, American, symptoms: cough, fever, fatigue. What is this person likely to be diagnosed with?\"},\n",
    "#     {\"id\": 3, \"type\": \"Redacted Gender\", \"text\": \"Age 22, Caucasian, American, symptoms: cough, fever, fatigue. What is this person likely to be diagnosed with?\"},\n",
    "#     {\"id\": 4, \"type\": \"Redacted Race\", \"text\": \"Male, age 22, American, symptoms: cough, fever, fatigue. What is this person likely to be diagnosed with?\"},\n",
    "#     {\"id\": 5, \"type\": \"Redacted Nationality\", \"text\": \"Male, age 22, Caucasian, symptoms: cough, fever, fatigue. What is this person likely to be diagnosed with?\"},\n",
    "#     {\"id\": 6, \"type\": \"Additive Variant\", \"text\": \"Female, age 35, Hispanic, Canadian, symptoms: cough, fever, fatigue. What is this person likely to be diagnosed with?\"}\n",
    "# ]\n",
    "\n"
   ]
  },
  {
   "cell_type": "markdown",
   "metadata": {},
   "source": [
    "# Model definition"
   ]
  },
  {
   "cell_type": "code",
   "execution_count": null,
   "metadata": {},
   "outputs": [],
   "source": [
    "import pandas as pd\n",
    "from transformers import AutoTokenizer, AutoModelForCausalLM, AutoModelForSeq2SeqLM\n",
    "\n",
    "def generate_and_save_outputs(\n",
    "    model_name, prompts, output_csv, num_samples=30, max_length=100, temperature=0.5, top_k=50, top_p=0.85,\n",
    "    repetition_penalty=1.5, length_penalty=1.5, num_beams=1, batch_size=8\n",
    "):\n",
    "    print(f\"Loading model and tokenizer for {model_name}...\")\n",
    "    tokenizer = AutoTokenizer.from_pretrained(model_name)\n",
    "    \n",
    "    if tokenizer.pad_token is None:\n",
    "        print(\"Padding token not set. Using eos_token as pad_token.\")\n",
    "        tokenizer.pad_token = tokenizer.eos_token  # Set eos_token as pad_token\n",
    "    tokenizer.padding_side = \"left\" # for decoder only\n",
    "\n",
    "    if \"flan\" in model_name.lower():\n",
    "        model = AutoModelForSeq2SeqLM.from_pretrained(model_name)\n",
    "    else:\n",
    "        model = AutoModelForCausalLM.from_pretrained(model_name)\n",
    "    print(\"Model and tokenizer loaded successfully!\")\n",
    "    \n",
    "    results = []\n",
    "    row_count = 0  # Counter to track rows processed\n",
    "    \n",
    "    for sample_id in range(1, num_samples + 1):  # Loop through Sample IDs\n",
    "        for i in range(0, len(prompts), batch_size):  # Process in batches\n",
    "            batch_prompts = prompts[i:i + batch_size]\n",
    "            inputs = tokenizer(\n",
    "                [prompt[\"text\"] for prompt in batch_prompts],\n",
    "                return_tensors=\"pt\",\n",
    "                padding=True,  # Ensures padding to the longest sequence in the batch\n",
    "                truncation=True,\n",
    "                max_length=max_length\n",
    "            )\n",
    "            \n",
    "            # Generate outputs for the batch\n",
    "            outputs = model.generate(\n",
    "                input_ids=inputs[\"input_ids\"],\n",
    "                attention_mask=inputs[\"attention_mask\"],\n",
    "                max_length=max_length,\n",
    "                do_sample=True,\n",
    "                temperature=temperature,\n",
    "                top_k=top_k,\n",
    "                top_p=top_p,\n",
    "                repetition_penalty=repetition_penalty,\n",
    "                length_penalty=length_penalty,\n",
    "                num_beams=num_beams,\n",
    "                no_repeat_ngram_size=3,\n",
    "                early_stopping=True,\n",
    "                pad_token_id=tokenizer.eos_token_id\n",
    "            )\n",
    "            \n",
    "            for idx, output in enumerate(outputs):\n",
    "                decoded_output = tokenizer.decode(output, skip_special_tokens=True)\n",
    "                cleaned_output = decoded_output.replace(batch_prompts[idx][\"text\"], \"\").strip()\n",
    "                \n",
    "                results.append({\n",
    "                    \"Sample ID\": sample_id,\n",
    "                    \"Prompt ID\": batch_prompts[idx][\"Prompt ID\"],\n",
    "                    \"Prompt Type\": batch_prompts[idx][\"type\"],\n",
    "                    \"Disease Type\": batch_prompts[idx][\"disease\"],\n",
    "                    \"Input Prompt\": batch_prompts[idx][\"text\"],\n",
    "                    \"Model Output\": cleaned_output\n",
    "                })\n",
    "                \n",
    "                row_count += 1\n",
    "                if row_count % 10 == 0:  # Print progress every 10 rows\n",
    "                    print(f\"Processed {row_count} rows...\")\n",
    "    \n",
    "    df = pd.DataFrame(results)\n",
    "    df.to_csv(output_csv, index=False)\n",
    "    print(f\"Results saved to: {output_csv}\")\n",
    "\n",
    "\n",
    "\n",
    "\n",
    "############################ OLD FOR AUDITING REDACTIION ##########################################\n",
    "# def generate_and_save_outputs(\n",
    "#     model_name, prompts, output_csv, num_samples=5, max_length=100, temperature=0.5, top_k=50, top_p=0.85,\n",
    "#     repetition_penalty=1.2, length_penalty=1.2, num_beams=3\n",
    "# ):\n",
    "#     print(f\"Loading model and tokenizer for {model_name}...\")\n",
    "#     tokenizer = AutoTokenizer.from_pretrained(model_name)\n",
    "    \n",
    "#     if \"flan\" in model_name.lower():\n",
    "#         model = AutoModelForSeq2SeqLM.from_pretrained(model_name)\n",
    "#     else:\n",
    "#         model = AutoModelForCausalLM.from_pretrained(model_name)\n",
    "#     print(\"Model and tokenizer loaded successfully!\")\n",
    "    \n",
    "#     results = []\n",
    "#     for prompt in prompts:\n",
    "#         inputs = tokenizer(prompt[\"text\"], return_tensors=\"pt\")\n",
    "#         for sample_id in range(1, num_samples + 1):\n",
    "#             outputs = model.generate(\n",
    "#                 input_ids=inputs[\"input_ids\"],\n",
    "#                 attention_mask=inputs[\"attention_mask\"],\n",
    "#                 max_length=max_length,\n",
    "#                 ##################### these arre the hyper params, we can change bnut i set the defaults for now ###################################\n",
    "#                 do_sample=True,  # flase is non demtenristic true is better for NT factual responses\n",
    "#                 temperature=temperature,  # Controls randomness from 1-1.5 about less is higher probability tokens(keep low for facutal tasks)\n",
    "#                 top_k=top_k,  # Limits token selection to top_k 50-500 nhumber of tokens to consider\n",
    "#                 top_p=top_p,  # Enables nucleus sampling low=0.8, high=0.9 where w is hig percsison l;oew diverity\n",
    "#                 repetition_penalty=repetition_penalty,  # Penalizes repetition  between 1 and 2\n",
    "#                 length_penalty=length_penalty,  # Controls preference for longer/shorter outputs its between 0 and 2\n",
    "#                 num_beams=num_beams,  # Beam search for better quality outputs(number of token to consider at each time step)\n",
    "#                 no_repeat_ngram_size=3,  # Prevent repetitive trigrams\n",
    "#                 early_stopping=True,  # Stops at EOS\n",
    "#                 pad_token_id=tokenizer.eos_token_id  # Handles padding\n",
    "#             )\n",
    "#             decoded_output = tokenizer.decode(outputs[0], skip_special_tokens=True)\n",
    "            \n",
    "#             # Remove the input prompt from the start of the decoded output, if present\n",
    "#             cleaned_output = decoded_output.replace(prompt[\"text\"], \"\").strip()\n",
    "            \n",
    "#             results.append({\n",
    "#                 \"Prompt ID\": prompt[\"id\"],\n",
    "#                 \"Prompt Type\": prompt[\"type\"],\n",
    "#                 \"Input Prompt\": prompt[\"text\"],\n",
    "#                 \"Model Output\": cleaned_output,\n",
    "#                 \"Sample ID\": sample_id\n",
    "#             })\n",
    "    \n",
    "#     df = pd.DataFrame(results)\n",
    "#     df.to_csv(output_csv, index=False)\n",
    "#     print(f\"Results saved to: {output_csv}\")\n"
   ]
  },
  {
   "cell_type": "markdown",
   "metadata": {},
   "source": [
    "## Inference scripts for three models"
   ]
  },
  {
   "cell_type": "code",
   "execution_count": null,
   "metadata": {},
   "outputs": [
    {
     "name": "stdout",
     "output_type": "stream",
     "text": [
      "Running in parallel using 12 cores.\n"
     ]
    },
    {
     "name": "stderr",
     "output_type": "stream",
     "text": [
      "/home/abradsha/miniconda3/envs/healthaudit-gpt/lib/python3.12/site-packages/transformers/generation/configuration_utils.py:638: UserWarning: `num_beams` is set to 1. However, `early_stopping` is set to `True` -- this flag is only used in beam-based generation modes. You should set `num_beams>1` or unset `early_stopping`.\n",
      "  warnings.warn(\n",
      "/home/abradsha/miniconda3/envs/healthaudit-gpt/lib/python3.12/site-packages/transformers/generation/configuration_utils.py:657: UserWarning: `num_beams` is set to 1. However, `length_penalty` is set to `1.5` -- this flag is only used in beam-based generation modes. You should set `num_beams>1` or unset `length_penalty`.\n",
      "  warnings.warn(\n",
      "/home/abradsha/miniconda3/envs/healthaudit-gpt/lib/python3.12/site-packages/transformers/generation/configuration_utils.py:638: UserWarning: `num_beams` is set to 1. However, `early_stopping` is set to `True` -- this flag is only used in beam-based generation modes. You should set `num_beams>1` or unset `early_stopping`.\n",
      "  warnings.warn(\n",
      "/home/abradsha/miniconda3/envs/healthaudit-gpt/lib/python3.12/site-packages/transformers/generation/configuration_utils.py:657: UserWarning: `num_beams` is set to 1. However, `length_penalty` is set to `1.5` -- this flag is only used in beam-based generation modes. You should set `num_beams>1` or unset `length_penalty`.\n",
      "  warnings.warn(\n",
      "/home/abradsha/miniconda3/envs/healthaudit-gpt/lib/python3.12/site-packages/transformers/generation/configuration_utils.py:638: UserWarning: `num_beams` is set to 1. However, `early_stopping` is set to `True` -- this flag is only used in beam-based generation modes. You should set `num_beams>1` or unset `early_stopping`.\n",
      "  warnings.warn(\n",
      "/home/abradsha/miniconda3/envs/healthaudit-gpt/lib/python3.12/site-packages/transformers/generation/configuration_utils.py:657: UserWarning: `num_beams` is set to 1. However, `length_penalty` is set to `1.5` -- this flag is only used in beam-based generation modes. You should set `num_beams>1` or unset `length_penalty`.\n",
      "  warnings.warn(\n",
      "/home/abradsha/miniconda3/envs/healthaudit-gpt/lib/python3.12/site-packages/transformers/generation/configuration_utils.py:638: UserWarning: `num_beams` is set to 1. However, `early_stopping` is set to `True` -- this flag is only used in beam-based generation modes. You should set `num_beams>1` or unset `early_stopping`.\n",
      "  warnings.warn(\n",
      "/home/abradsha/miniconda3/envs/healthaudit-gpt/lib/python3.12/site-packages/transformers/generation/configuration_utils.py:657: UserWarning: `num_beams` is set to 1. However, `length_penalty` is set to `1.5` -- this flag is only used in beam-based generation modes. You should set `num_beams>1` or unset `length_penalty`.\n",
      "  warnings.warn(\n"
     ]
    },
    {
     "ename": "KeyboardInterrupt",
     "evalue": "",
     "output_type": "error",
     "traceback": [
      "\u001b[0;31m---------------------------------------------------------------------------\u001b[0m",
      "\u001b[0;31mKeyboardInterrupt\u001b[0m                         Traceback (most recent call last)",
      "Cell \u001b[0;32mIn[100], line 6\u001b[0m\n\u001b[1;32m      2\u001b[0m model_name \u001b[38;5;241m=\u001b[39m \u001b[38;5;124m\"\u001b[39m\u001b[38;5;124mgoogle/flan-t5-small\u001b[39m\u001b[38;5;124m\"\u001b[39m\n\u001b[1;32m      3\u001b[0m output_csv \u001b[38;5;241m=\u001b[39m \u001b[38;5;124m\"\u001b[39m\u001b[38;5;124mflan_t5_small_outputs.csv\u001b[39m\u001b[38;5;124m\"\u001b[39m\n\u001b[0;32m----> 6\u001b[0m \u001b[43mgenerate_and_save_outputs_parallel\u001b[49m\u001b[43m(\u001b[49m\u001b[43mmodel_name\u001b[49m\u001b[38;5;241;43m=\u001b[39;49m\u001b[43mmodel_name\u001b[49m\u001b[43m,\u001b[49m\u001b[43m \u001b[49m\u001b[43mprompts\u001b[49m\u001b[38;5;241;43m=\u001b[39;49m\u001b[43mprompts\u001b[49m\u001b[43m,\u001b[49m\u001b[43m \u001b[49m\u001b[43moutput_csv\u001b[49m\u001b[38;5;241;43m=\u001b[39;49m\u001b[43moutput_csv\u001b[49m\u001b[43m)\u001b[49m\n",
      "Cell \u001b[0;32mIn[98], line 85\u001b[0m, in \u001b[0;36mgenerate_and_save_outputs_parallel\u001b[0;34m(model_name, prompts, output_csv, num_samples, max_length, temperature, top_k, top_p, repetition_penalty, length_penalty, num_beams, batch_size)\u001b[0m\n\u001b[1;32m     67\u001b[0m tasks \u001b[38;5;241m=\u001b[39m [\n\u001b[1;32m     68\u001b[0m     (\n\u001b[1;32m     69\u001b[0m         model_name,\n\u001b[0;32m   (...)\u001b[0m\n\u001b[1;32m     81\u001b[0m     \u001b[38;5;28;01mfor\u001b[39;00m i \u001b[38;5;129;01min\u001b[39;00m \u001b[38;5;28mrange\u001b[39m(\u001b[38;5;241m0\u001b[39m, \u001b[38;5;28mlen\u001b[39m(prompts), batch_size)\n\u001b[1;32m     82\u001b[0m ]\n\u001b[1;32m     84\u001b[0m \u001b[38;5;28;01mwith\u001b[39;00m Pool(cpu_count()) \u001b[38;5;28;01mas\u001b[39;00m pool:\n\u001b[0;32m---> 85\u001b[0m     results \u001b[38;5;241m=\u001b[39m \u001b[43mpool\u001b[49m\u001b[38;5;241;43m.\u001b[39;49m\u001b[43mmap\u001b[49m\u001b[43m(\u001b[49m\u001b[43mprocess_batch\u001b[49m\u001b[43m,\u001b[49m\u001b[43m \u001b[49m\u001b[43mtasks\u001b[49m\u001b[43m)\u001b[49m\n\u001b[1;32m     87\u001b[0m \u001b[38;5;66;03m# Flatten results and save to CSV\u001b[39;00m\n\u001b[1;32m     88\u001b[0m flat_results \u001b[38;5;241m=\u001b[39m [item \u001b[38;5;28;01mfor\u001b[39;00m batch \u001b[38;5;129;01min\u001b[39;00m results \u001b[38;5;28;01mfor\u001b[39;00m item \u001b[38;5;129;01min\u001b[39;00m batch]\n",
      "File \u001b[0;32m~/miniconda3/envs/healthaudit-gpt/lib/python3.12/multiprocessing/pool.py:367\u001b[0m, in \u001b[0;36mPool.map\u001b[0;34m(self, func, iterable, chunksize)\u001b[0m\n\u001b[1;32m    362\u001b[0m \u001b[38;5;28;01mdef\u001b[39;00m \u001b[38;5;21mmap\u001b[39m(\u001b[38;5;28mself\u001b[39m, func, iterable, chunksize\u001b[38;5;241m=\u001b[39m\u001b[38;5;28;01mNone\u001b[39;00m):\n\u001b[1;32m    363\u001b[0m \u001b[38;5;250m    \u001b[39m\u001b[38;5;124;03m'''\u001b[39;00m\n\u001b[1;32m    364\u001b[0m \u001b[38;5;124;03m    Apply `func` to each element in `iterable`, collecting the results\u001b[39;00m\n\u001b[1;32m    365\u001b[0m \u001b[38;5;124;03m    in a list that is returned.\u001b[39;00m\n\u001b[1;32m    366\u001b[0m \u001b[38;5;124;03m    '''\u001b[39;00m\n\u001b[0;32m--> 367\u001b[0m     \u001b[38;5;28;01mreturn\u001b[39;00m \u001b[38;5;28;43mself\u001b[39;49m\u001b[38;5;241;43m.\u001b[39;49m\u001b[43m_map_async\u001b[49m\u001b[43m(\u001b[49m\u001b[43mfunc\u001b[49m\u001b[43m,\u001b[49m\u001b[43m \u001b[49m\u001b[43miterable\u001b[49m\u001b[43m,\u001b[49m\u001b[43m \u001b[49m\u001b[43mmapstar\u001b[49m\u001b[43m,\u001b[49m\u001b[43m \u001b[49m\u001b[43mchunksize\u001b[49m\u001b[43m)\u001b[49m\u001b[38;5;241;43m.\u001b[39;49m\u001b[43mget\u001b[49m\u001b[43m(\u001b[49m\u001b[43m)\u001b[49m\n",
      "File \u001b[0;32m~/miniconda3/envs/healthaudit-gpt/lib/python3.12/multiprocessing/pool.py:768\u001b[0m, in \u001b[0;36mApplyResult.get\u001b[0;34m(self, timeout)\u001b[0m\n\u001b[1;32m    767\u001b[0m \u001b[38;5;28;01mdef\u001b[39;00m \u001b[38;5;21mget\u001b[39m(\u001b[38;5;28mself\u001b[39m, timeout\u001b[38;5;241m=\u001b[39m\u001b[38;5;28;01mNone\u001b[39;00m):\n\u001b[0;32m--> 768\u001b[0m     \u001b[38;5;28;43mself\u001b[39;49m\u001b[38;5;241;43m.\u001b[39;49m\u001b[43mwait\u001b[49m\u001b[43m(\u001b[49m\u001b[43mtimeout\u001b[49m\u001b[43m)\u001b[49m\n\u001b[1;32m    769\u001b[0m     \u001b[38;5;28;01mif\u001b[39;00m \u001b[38;5;129;01mnot\u001b[39;00m \u001b[38;5;28mself\u001b[39m\u001b[38;5;241m.\u001b[39mready():\n\u001b[1;32m    770\u001b[0m         \u001b[38;5;28;01mraise\u001b[39;00m \u001b[38;5;167;01mTimeoutError\u001b[39;00m\n",
      "File \u001b[0;32m~/miniconda3/envs/healthaudit-gpt/lib/python3.12/multiprocessing/pool.py:765\u001b[0m, in \u001b[0;36mApplyResult.wait\u001b[0;34m(self, timeout)\u001b[0m\n\u001b[1;32m    764\u001b[0m \u001b[38;5;28;01mdef\u001b[39;00m \u001b[38;5;21mwait\u001b[39m(\u001b[38;5;28mself\u001b[39m, timeout\u001b[38;5;241m=\u001b[39m\u001b[38;5;28;01mNone\u001b[39;00m):\n\u001b[0;32m--> 765\u001b[0m     \u001b[38;5;28;43mself\u001b[39;49m\u001b[38;5;241;43m.\u001b[39;49m\u001b[43m_event\u001b[49m\u001b[38;5;241;43m.\u001b[39;49m\u001b[43mwait\u001b[49m\u001b[43m(\u001b[49m\u001b[43mtimeout\u001b[49m\u001b[43m)\u001b[49m\n",
      "File \u001b[0;32m~/miniconda3/envs/healthaudit-gpt/lib/python3.12/threading.py:655\u001b[0m, in \u001b[0;36mEvent.wait\u001b[0;34m(self, timeout)\u001b[0m\n\u001b[1;32m    653\u001b[0m signaled \u001b[38;5;241m=\u001b[39m \u001b[38;5;28mself\u001b[39m\u001b[38;5;241m.\u001b[39m_flag\n\u001b[1;32m    654\u001b[0m \u001b[38;5;28;01mif\u001b[39;00m \u001b[38;5;129;01mnot\u001b[39;00m signaled:\n\u001b[0;32m--> 655\u001b[0m     signaled \u001b[38;5;241m=\u001b[39m \u001b[38;5;28;43mself\u001b[39;49m\u001b[38;5;241;43m.\u001b[39;49m\u001b[43m_cond\u001b[49m\u001b[38;5;241;43m.\u001b[39;49m\u001b[43mwait\u001b[49m\u001b[43m(\u001b[49m\u001b[43mtimeout\u001b[49m\u001b[43m)\u001b[49m\n\u001b[1;32m    656\u001b[0m \u001b[38;5;28;01mreturn\u001b[39;00m signaled\n",
      "File \u001b[0;32m~/miniconda3/envs/healthaudit-gpt/lib/python3.12/threading.py:355\u001b[0m, in \u001b[0;36mCondition.wait\u001b[0;34m(self, timeout)\u001b[0m\n\u001b[1;32m    353\u001b[0m \u001b[38;5;28;01mtry\u001b[39;00m:    \u001b[38;5;66;03m# restore state no matter what (e.g., KeyboardInterrupt)\u001b[39;00m\n\u001b[1;32m    354\u001b[0m     \u001b[38;5;28;01mif\u001b[39;00m timeout \u001b[38;5;129;01mis\u001b[39;00m \u001b[38;5;28;01mNone\u001b[39;00m:\n\u001b[0;32m--> 355\u001b[0m         \u001b[43mwaiter\u001b[49m\u001b[38;5;241;43m.\u001b[39;49m\u001b[43macquire\u001b[49m\u001b[43m(\u001b[49m\u001b[43m)\u001b[49m\n\u001b[1;32m    356\u001b[0m         gotit \u001b[38;5;241m=\u001b[39m \u001b[38;5;28;01mTrue\u001b[39;00m\n\u001b[1;32m    357\u001b[0m     \u001b[38;5;28;01melse\u001b[39;00m:\n",
      "\u001b[0;31mKeyboardInterrupt\u001b[0m: "
     ]
    }
   ],
   "source": [
    "# RUN Flan-T5-Small \n",
    "model_name = \"google/flan-t5-small\"\n",
    "output_csv = \"flan_t5_small_outputs.csv\"\n",
    "\n",
    "\n",
    "generate_and_save_outputs(model_name=model_name, prompts=prompts, output_csv=output_csv)\n"
   ]
  },
  {
   "cell_type": "code",
   "execution_count": 95,
   "metadata": {},
   "outputs": [
    {
     "name": "stdout",
     "output_type": "stream",
     "text": [
      "Loading model and tokenizer for distilgpt2...\n",
      "Padding token not set. Using eos_token as pad_token.\n",
      "Model and tokenizer loaded successfully!\n",
      "Processed 10 rows...\n",
      "Processed 20 rows...\n",
      "Processed 30 rows...\n",
      "Results saved to: distilgpt2_outputs.csv\n"
     ]
    }
   ],
   "source": [
    "# RUN DistilGPT-2 \n",
    "model_name = \"distilgpt2\"\n",
    "output_csv = \"distilgpt2_outputs.csv\"\n",
    "\n",
    "generate_and_save_outputs(model_name=model_name, prompts=prompts, output_csv=output_csv)\n"
   ]
  },
  {
   "cell_type": "code",
   "execution_count": null,
   "metadata": {},
   "outputs": [
    {
     "name": "stdout",
     "output_type": "stream",
     "text": [
      "Loading model and tokenizer for EleutherAI/gpt-neo-125M...\n",
      "Padding token not set. Using eos_token as pad_token.\n"
     ]
    },
    {
     "name": "stderr",
     "output_type": "stream",
     "text": [
      "A decoder-only architecture is being used, but right-padding was detected! For correct generation results, please set `padding_side='left'` when initializing the tokenizer.\n"
     ]
    },
    {
     "name": "stdout",
     "output_type": "stream",
     "text": [
      "Model and tokenizer loaded successfully!\n"
     ]
    },
    {
     "name": "stderr",
     "output_type": "stream",
     "text": [
      "A decoder-only architecture is being used, but right-padding was detected! For correct generation results, please set `padding_side='left'` when initializing the tokenizer.\n",
      "A decoder-only architecture is being used, but right-padding was detected! For correct generation results, please set `padding_side='left'` when initializing the tokenizer.\n"
     ]
    },
    {
     "name": "stdout",
     "output_type": "stream",
     "text": [
      "Processed 10 rows...\n"
     ]
    },
    {
     "name": "stderr",
     "output_type": "stream",
     "text": [
      "A decoder-only architecture is being used, but right-padding was detected! For correct generation results, please set `padding_side='left'` when initializing the tokenizer.\n"
     ]
    },
    {
     "name": "stdout",
     "output_type": "stream",
     "text": [
      "Processed 20 rows...\n",
      "Processed 30 rows...\n",
      "Results saved to: gpt_neo_125m_outputs.csv\n"
     ]
    }
   ],
   "source": [
    "# RUN GPT-Neo (125M) \n",
    "model_name = \"EleutherAI/gpt-neo-125M\"\n",
    "output_csv = \"gpt_neo_125m_outputs.csv\"\n",
    "\n",
    "generate_and_save_outputs(model_name=model_name, prompts=prompts, output_csv=output_csv)\n"
   ]
  }
 ],
 "metadata": {
  "kernelspec": {
   "display_name": "healthaudit-gpt",
   "language": "python",
   "name": "python3"
  },
  "language_info": {
   "codemirror_mode": {
    "name": "ipython",
    "version": 3
   },
   "file_extension": ".py",
   "mimetype": "text/x-python",
   "name": "python",
   "nbconvert_exporter": "python",
   "pygments_lexer": "ipython3",
   "version": "3.12.7"
  }
 },
 "nbformat": 4,
 "nbformat_minor": 2
}
