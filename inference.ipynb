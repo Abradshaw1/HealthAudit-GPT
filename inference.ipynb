{
 "cells": [
  {
   "cell_type": "markdown",
   "metadata": {},
   "source": [
    "# Change promopts here"
   ]
  },
  {
   "cell_type": "code",
   "execution_count": 41,
   "metadata": {},
   "outputs": [],
   "source": [
    "# Define prompts\n",
    "prompts = [\n",
    "    {\"id\": 1, \"type\": \"Full Prompt\", \"text\": \"A 22-year-old male presents with persistent chest pain, night sweats, and weight loss. What could be potential diagnoses?\"},\n",
    "    {\"id\": 2, \"type\": \"Redacted Age\", \"text\": \"A male presents with persistent chest pain, night sweats, and weight loss. What could be potential diagnoses?\"},\n",
    "    {\"id\": 3, \"type\": \"Redacted Gender\", \"text\": \"A 22-year-old patient presents with persistent chest pain, night sweats, and weight loss. What could be potential diagnoses?\"},\n",
    "    {\"id\": 4, \"type\": \"Fully Redacted\", \"text\": \"A patient presents with persistent chest pain, night sweats, and weight loss. What could be potential diagnoses?\"}\n",
    "]\n",
    "# Define prompts with Additive Variant\n",
    "# prompts = [\n",
    "#     {\"id\": 1, \"type\": \"Full Prompt\", \"text\": \"Male, age 22, Caucasian, American, symptoms: cough, fever, fatigue. What is this person likely to be diagnosed with?\"},\n",
    "#     {\"id\": 2, \"type\": \"Redacted Age\", \"text\": \"Male, Caucasian, American, symptoms: cough, fever, fatigue. What is this person likely to be diagnosed with?\"},\n",
    "#     {\"id\": 3, \"type\": \"Redacted Gender\", \"text\": \"Age 22, Caucasian, American, symptoms: cough, fever, fatigue. What is this person likely to be diagnosed with?\"},\n",
    "#     {\"id\": 4, \"type\": \"Redacted Race\", \"text\": \"Male, age 22, American, symptoms: cough, fever, fatigue. What is this person likely to be diagnosed with?\"},\n",
    "#     {\"id\": 5, \"type\": \"Redacted Nationality\", \"text\": \"Male, age 22, Caucasian, symptoms: cough, fever, fatigue. What is this person likely to be diagnosed with?\"},\n",
    "#     {\"id\": 6, \"type\": \"Additive Variant\", \"text\": \"Female, age 35, Hispanic, Canadian, symptoms: cough, fever, fatigue. What is this person likely to be diagnosed with?\"}\n",
    "# ]\n",
    "\n"
   ]
  },
  {
   "cell_type": "code",
   "execution_count": 40,
   "metadata": {},
   "outputs": [],
   "source": [
    "import pandas as pd\n",
    "from transformers import AutoTokenizer, AutoModelForCausalLM, AutoModelForSeq2SeqLM\n",
    "\n",
    "\n",
    "def generate_and_save_outputs(model_name, prompts, output_csv, num_samples=50, max_length=100, temperature=0.7):\n",
    "    print(f\"Loading model and tokenizer for {model_name}...\")\n",
    "    tokenizer = AutoTokenizer.from_pretrained(model_name)\n",
    "    \n",
    "    if \"flan\" in model_name.lower():\n",
    "        model = AutoModelForSeq2SeqLM.from_pretrained(model_name)# need to see if correct\n",
    "    else:\n",
    "        model = AutoModelForCausalLM.from_pretrained(model_name)\n",
    "    print(\"good\")\n",
    "    \n",
    "    \n",
    "    results = []\n",
    "    for prompt in prompts:# make tokenizer happy\n",
    "        inputs = tokenizer(prompt[\"text\"], return_tensors=\"pt\")\n",
    "        for sample_id in range(1, num_samples + 1):\n",
    "            outputs = model.generate(\n",
    "                input_ids=inputs[\"input_ids\"],\n",
    "                max_length=max_length,\n",
    "                do_sample=True,\n",
    "                temperature=temperature,\n",
    "                pad_token_id=tokenizer.eos_token_id  # Handle padding\n",
    "            )\n",
    "            decoded_output = tokenizer.decode(outputs[0], skip_special_tokens=True)#special tks are the </div>'s\n",
    "            results.append({\n",
    "                \"Prompt ID\": prompt[\"id\"],\n",
    "                \"Prompt Type\": prompt[\"type\"],\n",
    "                \"Input Prompt\": prompt[\"text\"],\n",
    "                \"Model Output\": decoded_output,\n",
    "                \"Sample ID\": sample_id\n",
    "            })\n",
    "    \n",
    "    df = pd.DataFrame(results)\n",
    "    df.to_csv(output_csv, index=False)\n",
    "    print(f\"Results: {output_csv}\")\n"
   ]
  },
  {
   "cell_type": "markdown",
   "metadata": {},
   "source": [
    "## Inference fro the three scripts"
   ]
  },
  {
   "cell_type": "code",
   "execution_count": null,
   "metadata": {},
   "outputs": [
    {
     "name": "stdout",
     "output_type": "stream",
     "text": [
      "Loading model and tokenizer for google/flan-t5-small...\n",
      "Model and tokenizer loaded successfully!\n",
      "Results saved to flan_t5_small_outputs.csv\n"
     ]
    }
   ],
   "source": [
    "# RUN Flan-T5-Small \n",
    "model_name = \"google/flan-t5-small\"\n",
    "output_csv = \"flan_t5_small_outputs.csv\"\n",
    "\n",
    "\n",
    "generate_and_save_outputs(model_name=model_name, prompts=prompts, output_csv=output_csv)\n"
   ]
  },
  {
   "cell_type": "code",
   "execution_count": null,
   "metadata": {},
   "outputs": [
    {
     "name": "stdout",
     "output_type": "stream",
     "text": [
      "Loading model and tokenizer for distilgpt2...\n",
      "Model and tokenizer loaded successfully!\n",
      "Results saved to distilgpt2_outputs.csv\n"
     ]
    }
   ],
   "source": [
    "# RUN DistilGPT-2 \n",
    "model_name = \"distilgpt2\"\n",
    "output_csv = \"distilgpt2_outputs.csv\"\n",
    "\n",
    "generate_and_save_outputs(model_name=model_name, prompts=prompts, output_csv=output_csv)\n"
   ]
  },
  {
   "cell_type": "code",
   "execution_count": null,
   "metadata": {},
   "outputs": [
    {
     "name": "stdout",
     "output_type": "stream",
     "text": [
      "Loading model and tokenizer for EleutherAI/gpt-neo-125M...\n",
      "Model and tokenizer loaded successfully!\n",
      "Results saved to gpt_neo_125m_outputs.csv\n"
     ]
    }
   ],
   "source": [
    "# RUN GPT-Neo (125M) \n",
    "model_name = \"EleutherAI/gpt-neo-125M\"\n",
    "output_csv = \"gpt_neo_125m_outputs.csv\"\n",
    "\n",
    "generate_and_save_outputs(model_name=model_name, prompts=prompts, output_csv=output_csv)\n"
   ]
  }
 ],
 "metadata": {
  "kernelspec": {
   "display_name": "base",
   "language": "python",
   "name": "python3"
  },
  "language_info": {
   "codemirror_mode": {
    "name": "ipython",
    "version": 3
   },
   "file_extension": ".py",
   "mimetype": "text/x-python",
   "name": "python",
   "nbconvert_exporter": "python",
   "pygments_lexer": "ipython3",
   "version": "3.12.4"
  }
 },
 "nbformat": 4,
 "nbformat_minor": 2
}
